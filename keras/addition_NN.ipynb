{
 "cells": [
  {
   "cell_type": "code",
   "execution_count": null,
   "metadata": {},
   "outputs": [],
   "source": [
    "import numpy as np\n",
    "import keras\n",
    "from keras.callbacks import Callback"
   ]
  },
  {
   "cell_type": "code",
   "execution_count": null,
   "metadata": {},
   "outputs": [],
   "source": [
    "# Neural net for finding the summation of 2 numbers\n",
    "model = keras.Sequential([\n",
    "    keras.layers.Dense(16,input_shape=(2,)),\n",
    "    keras.layers.ReLU(),\n",
    "    keras.layers.Dense(1)\n",
    "])"
   ]
  },
  {
   "cell_type": "code",
   "execution_count": null,
   "metadata": {},
   "outputs": [],
   "source": [
    "# Generate training data\n",
    "np.random.seed(42)\n",
    "x_train = np.random.rand(1000, 2) * 10  # Random numbers between 0 and 10\n",
    "y_train = np.sum(x_train, axis=1, keepdims=True)  # Compute sum"
   ]
  },
  {
   "cell_type": "code",
   "execution_count": null,
   "metadata": {},
   "outputs": [],
   "source": [
    "# Define loss function and optimizer\n",
    "criterion = keras.losses.MeanSquaredError()\n",
    "optimizer = keras.optimizers.Adam(learning_rate=0.01)\n",
    "\n",
    "model.compile(optimizer=optimizer,loss=criterion)\n",
    "\n",
    "# Custom callback to print loss every 100 epochs\n",
    "class PrintLossEveryN(Callback):\n",
    "    def __init__(self, n):\n",
    "        super().__init__()\n",
    "        self.n = n\n",
    "\n",
    "    def on_epoch_end(self, epoch, logs=None):\n",
    "        if (epoch + 1) % self.n == 0:\n",
    "            print(f\"Epoch {epoch + 1}: loss = {logs['loss']:.4f}\")\n",
    "\n",
    "# Train the model\n",
    "model.fit(x_train, y_train, epochs=1000, verbose=0, callbacks=[PrintLossEveryN(100)])\n",
    "\n",
    "# Test the model\n",
    "x_test = np.array([[4.5, 3.2]], dtype=np.float32)\n",
    "predicted_sum = model.predict(x_test)[0][0]\n",
    "actual_sum = np.sum(x_test[0])\n",
    "\n",
    "print(f'Predicted sum: {predicted_sum:.4f}, Actual sum: {actual_sum}')"
   ]
  },
  {
   "cell_type": "code",
   "execution_count": null,
   "metadata": {},
   "outputs": [],
   "source": []
  }
 ],
 "metadata": {
  "kernelspec": {
   "display_name": "Python 3",
   "language": "python",
   "name": "python3"
  },
  "language_info": {
   "codemirror_mode": {
    "name": "ipython",
    "version": 3
   },
   "file_extension": ".py",
   "mimetype": "text/x-python",
   "name": "python",
   "nbconvert_exporter": "python",
   "pygments_lexer": "ipython3",
   "version": "3.9.0"
  }
 },
 "nbformat": 4,
 "nbformat_minor": 2
}
