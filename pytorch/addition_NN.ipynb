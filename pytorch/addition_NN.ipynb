{
 "cells": [
  {
   "cell_type": "code",
   "execution_count": null,
   "metadata": {},
   "outputs": [],
   "source": [
    "import torch\n",
    "import torch.nn as nn\n",
    "import torch.optim as optim\n",
    "import numpy as np"
   ]
  },
  {
   "cell_type": "code",
   "execution_count": null,
   "metadata": {},
   "outputs": [],
   "source": [
    "# Neural net for finding the summation of 2 numbers\n",
    "class SumNN(nn.Module):\n",
    "    def __init__(self):\n",
    "        super(SumNN, self).__init__()\n",
    "        self.fc1 = nn.Linear(2, 16)  # Hidden layer with 16 neurons\n",
    "        self.relu = nn.ReLU()\n",
    "        self.fc2 = nn.Linear(16, 1)  # Output layer\n",
    "    \n",
    "    def forward(self, x):\n",
    "        x = self.fc1(x)\n",
    "        x = self.relu(x)\n",
    "        x = self.fc2(x)\n",
    "        return x\n",
    "\n",
    "# Create model\n",
    "model = SumNN()"
   ]
  },
  {
   "cell_type": "code",
   "execution_count": null,
   "metadata": {},
   "outputs": [],
   "source": [
    "# Generate training data\n",
    "np.random.seed(42)\n",
    "x_train = np.random.rand(1000, 2) * 10  # Random numbers between 0 and 10\n",
    "y_train = np.sum(x_train, axis=1, keepdims=True)  # Compute sum\n",
    "\n",
    "# Convert to tensors\n",
    "x_train_tensor = torch.tensor(x_train, dtype=torch.float32)\n",
    "y_train_tensor = torch.tensor(y_train, dtype=torch.float32)"
   ]
  },
  {
   "cell_type": "code",
   "execution_count": null,
   "metadata": {},
   "outputs": [],
   "source": [
    "# Define loss function and optimizer\n",
    "criterion = nn.MSELoss()\n",
    "optimizer = optim.Adam(model.parameters(), lr=0.01)\n",
    "\n",
    "# Train the model\n",
    "for epoch in range(1000):\n",
    "    optimizer.zero_grad()\n",
    "    outputs = model(x_train_tensor)\n",
    "    loss = criterion(outputs, y_train_tensor)\n",
    "    loss.backward()\n",
    "    optimizer.step()\n",
    "    \n",
    "    if epoch % 100 == 0:\n",
    "        print(f'Epoch [{epoch}/1000], Loss: {loss.item():.4f}')\n",
    "\n",
    "# Test the model\n",
    "x_test = torch.tensor([[4.5, 3.2]], dtype=torch.float32)\n",
    "predicted_sum = model(x_test).item()\n",
    "print(f'Predicted sum: {predicted_sum}, Actual sum: {sum(x_test.numpy()[0])}')"
   ]
  }
 ],
 "metadata": {
  "language_info": {
   "name": "python"
  }
 },
 "nbformat": 4,
 "nbformat_minor": 2
}
