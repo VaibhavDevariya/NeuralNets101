{
 "cells": [
  {
   "cell_type": "code",
   "execution_count": null,
   "metadata": {},
   "outputs": [],
   "source": [
    "import torch\n",
    "from torch import nn\n",
    "from torch.utils.data import DataLoader\n",
    "from torchvision import datasets, transforms\n",
    "from torchvision.transforms import ToTensor"
   ]
  },
  {
   "cell_type": "code",
   "execution_count": null,
   "metadata": {},
   "outputs": [],
   "source": [
    "transform = transforms.Compose(\n",
    "    [ToTensor(),\n",
    "     transforms.Normalize((0.5,),(0.5,))]\n",
    ")"
   ]
  },
  {
   "cell_type": "code",
   "execution_count": null,
   "metadata": {},
   "outputs": [],
   "source": [
    "training_data = datasets.FashionMNIST(root=\"data\",download=True,train=True,transform=transform)\n",
    "testing_data = datasets.FashionMNIST(root=\"data\",download=True,train=False,transform=transform)"
   ]
  },
  {
   "cell_type": "code",
   "execution_count": null,
   "metadata": {},
   "outputs": [],
   "source": [
    "training_dataloader = DataLoader(training_data,batch_size=64,shuffle=True)\n",
    "testing_dataloader = DataLoader(testing_data,batch_size=64,shuffle=True)"
   ]
  },
  {
   "cell_type": "code",
   "execution_count": null,
   "metadata": {},
   "outputs": [],
   "source": [
    "class CNN(nn.Module):\n",
    "  def __init__(self):\n",
    "    super().__init__()\n",
    "    self.conv1 = nn.Conv2d(1,6,5)\n",
    "    self.pool = nn.MaxPool2d(2,2)\n",
    "    self.conv2 = nn.Conv2d(6,16,5)\n",
    "    self.fc1 = nn.Linear(16*4*4, 120)\n",
    "    self.fc2 = nn.Linear(120,84)\n",
    "    self.fc3 = nn.Linear(84,10)\n",
    "\n",
    "  def forward(self,x):\n",
    "    x = self.pool(nn.functional.relu(self.conv1(x)))\n",
    "    x = self.pool(nn.functional.relu(self.conv2(x)))\n",
    "    x = torch.flatten(x,1)\n",
    "    x = nn.functional.relu(self.fc1(x))\n",
    "    x = nn.functional.relu(self.fc2(x))\n",
    "    x = self.fc3(x)\n",
    "    return x\n",
    "\n",
    "model = CNN()"
   ]
  },
  {
   "cell_type": "code",
   "execution_count": null,
   "metadata": {},
   "outputs": [],
   "source": [
    "loss_fn = nn.CrossEntropyLoss()\n",
    "opt = torch.optim.SGD(model.parameters(),lr=1e-3)\n",
    "\n",
    "\n",
    "def train(dataloader, model, loss_fn, optimizer):\n",
    "  size = len(dataloader.dataset)\n",
    "  model.train()\n",
    "  for batch, (x,y) in enumerate(dataloader):\n",
    "    # compute prediction error\n",
    "    pred = model(x)\n",
    "    loss = loss_fn(pred,y)\n",
    "\n",
    "    # backpropagation\n",
    "    optimizer.zero_grad()\n",
    "    loss.backward()\n",
    "    optimizer.step()\n",
    "\n",
    "    if batch%100 == 0:\n",
    "      loss, current = loss.item(), (batch+1) * len(x)\n",
    "      print(f\"loss : {loss:>7f} [{current:>5d}/{size:>5d}]\")\n",
    "\n",
    "\n",
    "def test(dataloader, model, loss_fn):\n",
    "  size = len(dataloader.dataset)\n",
    "  num_batches = len(dataloader)\n",
    "\n",
    "  model.eval()\n",
    "  test_loss, correct = 0,0\n",
    "\n",
    "  with torch.no_grad():\n",
    "    for x, y in dataloader:\n",
    "\n",
    "      pred = model(x)\n",
    "      test_loss += loss_fn(pred,y).item()\n",
    "      correct += (pred.argmax(1) == y).type(torch.float).sum().item()\n",
    "\n",
    "  test_loss /= num_batches\n",
    "  correct /= size\n",
    "  print(f\"Test Error: \\n Accuracy: {(100*correct):>0.1f}%, Avg loss: {test_loss:>8f} \\n\")"
   ]
  },
  {
   "cell_type": "code",
   "execution_count": null,
   "metadata": {},
   "outputs": [],
   "source": [
    "epochs = 5\n",
    "for t in range(epochs):\n",
    "    print(f\"Epoch {t+1}\\n-------------------------------\")\n",
    "    train(training_dataloader, model, loss_fn, opt)\n",
    "    test(testing_dataloader, model, loss_fn)\n",
    "print(\"Done!\")"
   ]
  }
 ],
 "metadata": {
  "language_info": {
   "name": "python"
  }
 },
 "nbformat": 4,
 "nbformat_minor": 2
}
